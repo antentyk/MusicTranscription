{
 "cells": [
  {
   "cell_type": "code",
   "execution_count": 1,
   "metadata": {},
   "outputs": [],
   "source": [
    "import os\n",
    "\n",
    "os.chdir(\"../\")"
   ]
  },
  {
   "cell_type": "code",
   "execution_count": 2,
   "metadata": {},
   "outputs": [],
   "source": [
    "import tqdm\n",
    "import librosa"
   ]
  },
  {
   "cell_type": "code",
   "execution_count": 3,
   "metadata": {},
   "outputs": [],
   "source": [
    "from src import config"
   ]
  },
  {
   "cell_type": "markdown",
   "metadata": {},
   "source": [
    "### Exploring single notes for repetition"
   ]
  },
  {
   "cell_type": "code",
   "execution_count": 5,
   "metadata": {},
   "outputs": [
    {
     "name": "stderr",
     "output_type": "stream",
     "text": [
      "2197it [00:09, 231.35it/s]\n"
     ]
    }
   ],
   "source": [
    "singleFiles = {} # midiPitch: (filename, instrumentName)\n",
    "\n",
    "for root, dirs, files in tqdm.tqdm(os.walk(config[\"path_to_MAPS\"])):\n",
    "    files = filter(lambda x: x.endswith(\".wav\"), files)\n",
    "    files = map(lambda x: x[:-4], files)\n",
    "    files = filter(lambda x: \"ISOL\" in x, files)\n",
    "    files = filter(lambda x: \"NO\" in x, files)\n",
    "    \n",
    "    for item in files:\n",
    "        infoPieces = item.split('_')\n",
    "\n",
    "        midiPitch = int(infoPieces[5][1:])\n",
    "        instrumentName = infoPieces[-1]\n",
    "\n",
    "        if(midiPitch not in singleFiles):\n",
    "            singleFiles[midiPitch] = []\n",
    "        \n",
    "        singleFiles[midiPitch].append((os.path.join(root, item), instrumentName))"
   ]
  },
  {
   "cell_type": "markdown",
   "metadata": {},
   "source": [
    "### Exploring A first-line octave 440hz"
   ]
  },
  {
   "cell_type": "code",
   "execution_count": 8,
   "metadata": {},
   "outputs": [],
   "source": [
    "A_MIDI_PITCH = librosa.note_to_midi(\"A4\")\n",
    "\n",
    "files = {} # instrument: list of files\n",
    "\n",
    "for item in set([item[1] for item in singleFiles[A_MIDI_PITCH]]):\n",
    "    files[item] = []\n",
    "\n",
    "for item in singleFiles[A_MIDI_PITCH]:\n",
    "    files[item[1]].append(os.path.relpath(item[0], start=config[\"path_to_MAPS\"]))"
   ]
  },
  {
   "cell_type": "code",
   "execution_count": 9,
   "metadata": {},
   "outputs": [
    {
     "data": {
      "text/plain": [
       "{'AkPnBsdf': ['MAPS_AkPnBsdf_1/AkPnBsdf/ISOL/NO/MAPS_ISOL_NO_F_S0_M69_AkPnBsdf',\n",
       "  'MAPS_AkPnBsdf_1/AkPnBsdf/ISOL/NO/MAPS_ISOL_NO_M_S0_M69_AkPnBsdf',\n",
       "  'MAPS_AkPnBsdf_1/AkPnBsdf/ISOL/NO/MAPS_ISOL_NO_P_S1_M69_AkPnBsdf'],\n",
       " 'AkPnCGdD': ['MAPS_AkPnCGdD_1/AkPnCGdD/ISOL/NO/MAPS_ISOL_NO_M_S0_M69_AkPnCGdD',\n",
       "  'MAPS_AkPnCGdD_1/AkPnCGdD/ISOL/NO/MAPS_ISOL_NO_F_S1_M69_AkPnCGdD',\n",
       "  'MAPS_AkPnCGdD_1/AkPnCGdD/ISOL/NO/MAPS_ISOL_NO_P_S1_M69_AkPnCGdD'],\n",
       " 'StbgTGd2': ['MAPS_StbgTGd2_1/StbgTGd2/ISOL/NO/MAPS_ISOL_NO_F_S1_M69_StbgTGd2',\n",
       "  'MAPS_StbgTGd2_1/StbgTGd2/ISOL/NO/MAPS_ISOL_NO_M_S1_M69_StbgTGd2',\n",
       "  'MAPS_StbgTGd2_1/StbgTGd2/ISOL/NO/MAPS_ISOL_NO_P_S1_M69_StbgTGd2'],\n",
       " 'SptkBGCl': ['MAPS_SptkBGCl_1/SptkBGCl/ISOL/NO/MAPS_ISOL_NO_F_S0_M69_SptkBGCl',\n",
       "  'MAPS_SptkBGCl_1/SptkBGCl/ISOL/NO/MAPS_ISOL_NO_M_S1_M69_SptkBGCl',\n",
       "  'MAPS_SptkBGCl_1/SptkBGCl/ISOL/NO/MAPS_ISOL_NO_P_S1_M69_SptkBGCl'],\n",
       " 'AkPnBcht': ['MAPS_AkPnBcht_1/AkPnBcht/ISOL/NO/MAPS_ISOL_NO_F_S0_M69_AkPnBcht',\n",
       "  'MAPS_AkPnBcht_1/AkPnBcht/ISOL/NO/MAPS_ISOL_NO_M_S1_M69_AkPnBcht',\n",
       "  'MAPS_AkPnBcht_1/AkPnBcht/ISOL/NO/MAPS_ISOL_NO_P_S1_M69_AkPnBcht'],\n",
       " 'ENSTDkAm': ['MAPS_ENSTDkAm_1/ENSTDkAm/ISOL/NO/MAPS_ISOL_NO_F_S1_M69_ENSTDkAm',\n",
       "  'MAPS_ENSTDkAm_1/ENSTDkAm/ISOL/NO/MAPS_ISOL_NO_M_S0_M69_ENSTDkAm',\n",
       "  'MAPS_ENSTDkAm_1/ENSTDkAm/ISOL/NO/MAPS_ISOL_NO_P_S1_M69_ENSTDkAm'],\n",
       " 'ENSTDkCl': ['MAPS_ENSTDkCl_1/ENSTDkCl/ISOL/NO/MAPS_ISOL_NO_F_S1_M69_ENSTDkCl',\n",
       "  'MAPS_ENSTDkCl_1/ENSTDkCl/ISOL/NO/MAPS_ISOL_NO_M_S1_M69_ENSTDkCl',\n",
       "  'MAPS_ENSTDkCl_1/ENSTDkCl/ISOL/NO/MAPS_ISOL_NO_P_S1_M69_ENSTDkCl'],\n",
       " 'SptkBGAm': ['MAPS_SptkBGAm_1/SptkBGAm/ISOL/NO/MAPS_ISOL_NO_F_S1_M69_SptkBGAm',\n",
       "  'MAPS_SptkBGAm_1/SptkBGAm/ISOL/NO/MAPS_ISOL_NO_M_S1_M69_SptkBGAm',\n",
       "  'MAPS_SptkBGAm_1/SptkBGAm/ISOL/NO/MAPS_ISOL_NO_P_S0_M69_SptkBGAm'],\n",
       " 'AkPnStgb': ['MAPS_AkPnStgb_1/AkPnStgb/ISOL/NO/MAPS_ISOL_NO_F_S1_M69_AkPnStgb',\n",
       "  'MAPS_AkPnStgb_1/AkPnStgb/ISOL/NO/MAPS_ISOL_NO_M_S0_M69_AkPnStgb',\n",
       "  'MAPS_AkPnStgb_1/AkPnStgb/ISOL/NO/MAPS_ISOL_NO_P_S1_M69_AkPnStgb']}"
      ]
     },
     "execution_count": 9,
     "metadata": {},
     "output_type": "execute_result"
    }
   ],
   "source": [
    "files"
   ]
  }
 ],
 "metadata": {
  "kernelspec": {
   "display_name": "MusicTranscription",
   "language": "python",
   "name": "musictranscription"
  },
  "language_info": {
   "codemirror_mode": {
    "name": "ipython",
    "version": 3
   },
   "file_extension": ".py",
   "mimetype": "text/x-python",
   "name": "python",
   "nbconvert_exporter": "python",
   "pygments_lexer": "ipython3",
   "version": "3.6.8"
  }
 },
 "nbformat": 4,
 "nbformat_minor": 2
}
